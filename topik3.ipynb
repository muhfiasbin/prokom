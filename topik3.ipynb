{
 "cells": [
  {
   "cell_type": "markdown",
   "id": "82ee53fc-b644-4719-b4b7-43115527e10e",
   "metadata": {
    "tags": []
   },
   "source": [
    "# Peubah, Tipe Data dan Operator\n",
    "\n",
    "Sedikit mengulang materi sebelumnya tentang definisi dari algoritma yaitu urutan langkah-langkah logis penyelesaian masalah yang disusun secara sistematis (Munir, R., 2002). Dalam KBBI, definisi algoritma adalah urutan login pengambilan putusan untuk pemecahan masalah. Jika melihat kedua defenisi di atas, algoritma bekerja dalam lingkup pemecahan masalah (secara logis dan sistematis). Artinya, ada sebuah metode yang digunakan dalam menghasilkan sebuah algoritma.\n",
    "\n",
    "Secara umum metode pemecahan masalah terbagi dalam empat langkah, yaitu:\n",
    "1. Pengidenfikasian masalah.\n",
    "2. Membuat solusi-solusi alternatif.\n",
    "3. Mengevaluasi solusi-solusi alternatif, kemudian memilih sebuah solusi.\n",
    "4. Mengimplementasi solusi dan evaluasi.\n",
    "\n",
    "## Peubah\n",
    "\n",
    "Peubah (*variable*) adalah objek data dasar yang dimanipulasi di dalam program (Munir, R., 2002). Terdapat syarat-syarat penamaan peubah pada Python, antara lain :\n",
    "1. Pilih nama yang memiliki makna pada program. Nama peubah sebaiknya tidak terlalu panjang.\n",
    "2. Nama peubah boleh terdiri atas huruf, angka dan *underscore* (_).\n",
    "3. Tidak boleh diawali dengan angka.\n",
    "4. Huruf yang digunakan boleh berupa huruf kapital dan huruf kecil.\n",
    "5. Nama peubah bersifat *case-sensitive*. Huruf kapital dibedakan dengan huruf kecil.\n",
    "6. Nama peubah tidak boleh menggunakan salah satu kata kunci (*keyword*) pada Python.\n",
    "\n",
    "(Downey, Allen B., Think Python 2ed., 2016)\n",
    "\n",
    "Berikut ini adalah contoh nama peubah yang sah."
   ]
  },
  {
   "cell_type": "code",
   "execution_count": null,
   "id": "8425638a-ea66-4ece-830e-82af7d05eb07",
   "metadata": {},
   "outputs": [],
   "source": [
    "# Nama peubah yang sah\n",
    "name = \"Fulan\"\n",
    "person_age = 19\n",
    "_job = \"Painter\"\n",
    "part1 = 3.5\n",
    "Part1 = \"is a different variable\""
   ]
  },
  {
   "cell_type": "markdown",
   "id": "200a0842-3bb6-424b-9432-609e4be953e5",
   "metadata": {},
   "source": [
    "Peubah menggunakan angka pada awal nama."
   ]
  },
  {
   "cell_type": "code",
   "execution_count": null,
   "id": "0dd73afe-ccfd-4f1b-887c-1209def4412d",
   "metadata": {},
   "outputs": [],
   "source": [
    "9name = \"John\""
   ]
  },
  {
   "cell_type": "markdown",
   "id": "5a1be397-909e-45d5-9abc-b77b741bbc07",
   "metadata": {},
   "source": [
    "Peubah menggunakan simbol yang tidak diperbolehkan."
   ]
  },
  {
   "cell_type": "code",
   "execution_count": null,
   "id": "8d4085f7-3272-4648-8d2f-b40d5947770d",
   "metadata": {},
   "outputs": [],
   "source": [
    "count@ = 50"
   ]
  },
  {
   "cell_type": "markdown",
   "id": "adc87d2c-1a01-4d5c-b90f-9af7b4f4d205",
   "metadata": {},
   "source": [
    "Peubah menggunakan kata kunci pada Python."
   ]
  },
  {
   "cell_type": "code",
   "execution_count": null,
   "id": "02ede3df-0274-44d7-97d1-a88ee3447a2c",
   "metadata": {},
   "outputs": [],
   "source": [
    "lambda = 40"
   ]
  },
  {
   "cell_type": "markdown",
   "id": "46bd56c0-d987-43a7-9064-6400f31b118a",
   "metadata": {},
   "source": [
    "## Tipe Data\n",
    "\n",
    "Tipe data terdiri dari :\n",
    "1. Tipe data dasar\n",
    "2. Tipe data bentukan\n",
    "\n",
    "(Munir, R., 2002)\n",
    "\n",
    "### Tipe Data Dasar\n",
    "\n",
    "Tipe data dasar merupakan tipe data yang disediakan pada Python. Programer tinggal menggunakan tipe data dasar ini."
   ]
  },
  {
   "cell_type": "code",
   "execution_count": null,
   "id": "6e826bd9-54f7-4b22-b639-951e4ef61c4e",
   "metadata": {},
   "outputs": [],
   "source": [
    "print(type(2))\n",
    "print(type(3.1))\n",
    "print(type(1+5j))\n",
    "print(type(\"Message\"))\n",
    "print(type([1, 2, 3]))\n",
    "print(type((1, 2, 3)))\n",
    "print(type({1, 2, 3}))\n",
    "print(type({\"satu\": 1, \"dua\": 2, \"tiga\": 3}))"
   ]
  },
  {
   "cell_type": "markdown",
   "id": "5ca884fc-4501-4d02-b895-ee55fb31459f",
   "metadata": {},
   "source": [
    "### Tipe Data Bentukan\n",
    "\n",
    "Tipe data bentukan dapat berupa tipe data dasar yang diberi nama baru, misalnya :\n",
    "Tipe data `int` diberi nama `Bilangan_Bulat`.\n",
    "\n",
    "atau tipe data yang dibentuk dengan struktur tertentu, misalnya :\n",
    "Tipe data `koordinat_kartesian` yang terdiri atas `(x,y)`\n",
    "\n",
    "Catatan : Kita tidak membahas pembuatan tipe data bentukan.\n",
    "\n",
    "## Operator\n",
    "\n",
    "Operator adalah konstruksi yang dapat memanipulasi nilai dari operan. Contoh :\n",
    "3 + 2 = 5 \n",
    "3 dan 2 adalah operan dan + ada operator.\n",
    "\n",
    "Operator yang terdapat pada Python antara lain :\n",
    "\n",
    "### Operator Aritmatika"
   ]
  },
  {
   "cell_type": "code",
   "execution_count": null,
   "id": "cb78cbdc-d5cc-4ea4-8235-bdba64c845a3",
   "metadata": {},
   "outputs": [],
   "source": [
    "a = 10\n",
    "b = 7\n",
    "\n",
    "print(a + b)\n",
    "print(a - b)\n",
    "print(a * b)\n",
    "print(a / b)\n",
    "print(a % b)\n",
    "print(a ** b)"
   ]
  },
  {
   "cell_type": "markdown",
   "id": "14e42712-da29-4143-9ecd-54524d7e8d0d",
   "metadata": {},
   "source": [
    "### Operator Perbandingan"
   ]
  },
  {
   "cell_type": "code",
   "execution_count": null,
   "id": "39a1ae0a-6663-4e3f-802e-7f052f831fe1",
   "metadata": {},
   "outputs": [],
   "source": [
    "x = 13\n",
    "y = 33\n",
    "\n",
    "print(x > y)\n",
    "print(x < y)\n",
    "print(x == y)\n",
    "print(x != y)\n",
    "print(x >= y)\n",
    "print(x <= y)"
   ]
  },
  {
   "cell_type": "markdown",
   "id": "02d3b33e-742d-4e11-ad4a-c2742ae2f316",
   "metadata": {},
   "source": [
    "### Operator Logika"
   ]
  },
  {
   "cell_type": "code",
   "execution_count": null,
   "id": "bc70e3c0-de35-4723-967c-5b3cc453913c",
   "metadata": {},
   "outputs": [],
   "source": [
    "p = True\n",
    "q = False\n",
    "\n",
    "print(p and q)\n",
    "print(p or q)\n",
    "print(not p)"
   ]
  },
  {
   "cell_type": "code",
   "execution_count": null,
   "id": "87ece45c-acb1-4f33-9897-7848d85306b1",
   "metadata": {},
   "outputs": [],
   "source": []
  }
 ],
 "metadata": {
  "kernelspec": {
   "display_name": "Python 3 (ipykernel)",
   "language": "python",
   "name": "python3"
  },
  "language_info": {
   "codemirror_mode": {
    "name": "ipython",
    "version": 3
   },
   "file_extension": ".py",
   "mimetype": "text/x-python",
   "name": "python",
   "nbconvert_exporter": "python",
   "pygments_lexer": "ipython3",
   "version": "3.9.10"
  }
 },
 "nbformat": 4,
 "nbformat_minor": 5
}
